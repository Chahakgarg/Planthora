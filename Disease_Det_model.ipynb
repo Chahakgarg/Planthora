{
 "cells": [
  {
   "cell_type": "markdown",
   "metadata": {},
   "source": [
    "# Libraries Used"
   ]
  },
  {
   "cell_type": "code",
   "execution_count": 1,
   "metadata": {
    "id": "STy4Cqp3SS11"
   },
   "outputs": [],
   "source": [
    "from PIL import Image\n",
    "import torch\n",
    "import torchvision\n",
    "from torchvision.transforms import ToTensor\n",
    "import torchvision.transforms as transforms\n",
    "import numpy as np\n",
    "import matplotlib.pyplot as plt\n",
    "\n",
    "import torch.nn as nn\n",
    "import torch.optim as optim\n",
    "import torch.nn.functional as F\n",
    "import os\n",
    "import pickle"
   ]
  },
  {
   "cell_type": "markdown",
   "metadata": {},
   "source": [
    "# Dataset Class"
   ]
  },
  {
   "cell_type": "code",
   "execution_count": 2,
   "metadata": {
    "id": "Wx-fwpX-Stpz"
   },
   "outputs": [],
   "source": [
    "class Dataset():\n",
    "    def __init__(self):\n",
    "        self.labels,self.images = self.load_data()\n",
    "\n",
    "    # To load images and labels for dataloader\n",
    "    def load_data(self):\n",
    "        labels={}\n",
    "        images = {}\n",
    "        count = 0\n",
    "        # setting resize dimensions\n",
    "        resize = transforms.Compose([transforms.Resize((256,256))])\n",
    "        main_dir = os.listdir(os.path.join(r\"C:\\Users\\chahakgarg\\OneDrive\\Desktop\\dataset\",\"train\"))\n",
    "        reference = {}\n",
    "        # iterating through categories\n",
    "        for i,dir in enumerate(main_dir):\n",
    "            reference[dir]=i\n",
    "            images_list = os.listdir(os.path.join(r\"C:\\Users\\chahakgarg\\OneDrive\\Desktop\\dataset\",\"train\",dir))\n",
    "            local_cnt = 0\n",
    "            # iterating through images in a category\n",
    "            for img in images_list:\n",
    "                # 500 images from each category\n",
    "                if local_cnt<500:\n",
    "                    labels[count] = i\n",
    "                    img_path = os.path.join(r\"C:\\Users\\chahakgarg\\OneDrive\\Desktop\\dataset\",\"train\",dir,img)\n",
    "                    image = Image.open(img_path)\n",
    "                    image = ToTensor()(image)\n",
    "                    images[count] = resize(image)\n",
    "                    count+=1\n",
    "                    local_cnt+=1\n",
    "                else:\n",
    "                    break\n",
    "\n",
    "        print(reference)\n",
    "        return labels,images\n",
    "      \n",
    "    def __len__(self):\n",
    "        return len(self.labels)\n",
    "    \n",
    "\n",
    "    # To return x,y values in each iteration over dataloader as batches.\n",
    "    def __getitem__(self, idx):\n",
    "        return (\n",
    "            self.images[idx],\n",
    "            self.labels[idx],\n",
    "        )"
   ]
  },
  {
   "cell_type": "markdown",
   "metadata": {},
   "source": [
    "# Inherit from Dataset Class"
   ]
  },
  {
   "cell_type": "code",
   "execution_count": 3,
   "metadata": {
    "id": "yG0jLPt3g_uu"
   },
   "outputs": [],
   "source": [
    "class ValDataset(Dataset):\n",
    "\n",
    "    def load_data(self):\n",
    "          labels={}\n",
    "          images = {}\n",
    "          count = 0\n",
    "          resize = transforms.Compose([transforms.Resize((256,256))])\n",
    "          main_dir = os.listdir(os.path.join(r\"C:\\Users\\chahakgarg\\OneDrive\\Desktop\\dataset\",\"valid\"))\n",
    "          for i,dir in enumerate(main_dir):\n",
    "              print(i,dir)\n",
    "              images_list = os.listdir(os.path.join(r\"C:\\Users\\chahakgarg\\OneDrive\\Desktop\\dataset\",\"valid\",dir))\n",
    "              local_cnt = 0\n",
    "              for img in images_list:\n",
    "                  if(local_cnt<100):\n",
    "                      labels[count] = i\n",
    "                      img_path = os.path.join(r\"C:\\Users\\chahakgarg\\OneDrive\\Desktop\\dataset\",\"valid\",dir,img)\n",
    "                      image = Image.open(img_path)\n",
    "                      image = ToTensor()(image)\n",
    "                      images[count] = resize(image)\n",
    "                      count+=1\n",
    "                      local_cnt+=1\n",
    "                  else:\n",
    "                      break\n",
    "\n",
    "          return labels,images\n"
   ]
  },
  {
   "cell_type": "markdown",
   "metadata": {},
   "source": [
    "# Model Architecture"
   ]
  },
  {
   "cell_type": "code",
   "execution_count": 4,
   "metadata": {},
   "outputs": [],
   "source": [
    "class Network(nn.Module):\n",
    "    def __init__(self):\n",
    "        super(Network,self).__init__()\n",
    "\n",
    "        # CNNs for rgb images \n",
    "        self.conv1= nn.Conv2d(in_channels=3,out_channels=6,kernel_size=5)\n",
    "        self.conv2= nn.Conv2d(in_channels=6,out_channels=12,kernel_size=5)\n",
    "        self.conv3= nn.Conv2d(in_channels=12,out_channels=24,kernel_size=5)\n",
    "        self.conv4= nn.Conv2d(in_channels=24,out_channels=48,kernel_size=5)\n",
    "        \n",
    "        # Connecting CNN outputs with Fully Connected layers\n",
    "        self.fc1 = nn.Linear(in_features=48*12*12,out_features=240)\n",
    "        self.fc2 = nn.Linear(in_features=240,out_features=120)\n",
    "        self.out = nn.Linear(in_features=120,out_features=17)\n",
    "        \n",
    "        \n",
    "    def forward(self,t):\n",
    "        t = t\n",
    "        \n",
    "        t=self.conv1(t)\n",
    "        t=F.relu(t)\n",
    "        t=F.max_pool2d(t,kernel_size = 2, stride = 2)\n",
    "        \n",
    "        \n",
    "        t=self.conv2(t)\n",
    "        t=F.relu(t)\n",
    "        t=F.max_pool2d(t,kernel_size = 2, stride = 2)\n",
    "\n",
    "        t=self.conv3(t)\n",
    "        t=F.relu(t)\n",
    "        t=F.max_pool2d(t,kernel_size = 2, stride = 2)\n",
    "\n",
    "        t=self.conv4(t)\n",
    "        t=F.relu(t)\n",
    "        t=F.max_pool2d(t,kernel_size = 2, stride = 2)\n",
    "        \n",
    "        t=t.reshape(-1,48*12*12)\n",
    "        t=self.fc1(t)\n",
    "        t=F.relu(t)\n",
    "        \n",
    "        \n",
    "        t=self.fc2(t)\n",
    "        t=F.relu(t)\n",
    "        \n",
    "        t=self.out(t)\n",
    "        \n",
    "        \n",
    "        return t"
   ]
  },
  {
   "cell_type": "code",
   "execution_count": 5,
   "metadata": {
    "id": "ryeGo-1M_cJr"
   },
   "outputs": [],
   "source": [
    "model = Network()"
   ]
  },
  {
   "cell_type": "code",
   "execution_count": 6,
   "metadata": {
    "id": "gcJOyp8BKWaZ"
   },
   "outputs": [
    {
     "name": "stdout",
     "output_type": "stream",
     "text": [
      "{'Cherry___healthy': 0, 'Cherry___Powdery_mildew': 1, 'Pepper___Bacterial_spot': 2, 'Pepper___healthy': 3, 'Potato___Early_blight': 4, 'Potato___healthy': 5, 'Potato___Late_blight': 6, 'Tomato___Bacterial_spot': 7, 'Tomato___Early_blight': 8, 'Tomato___healthy': 9, 'Tomato___Late_blight': 10, 'Tomato___Leaf_Mold': 11, 'Tomato___Septoria_leaf_spot': 12, 'Tomato___Spider_mites Two-spotted_spider_mite': 13, 'Tomato___Target_Spot': 14, 'Tomato___Tomato_mosaic_virus': 15, 'Tomato___Tomato_Yellow_Leaf_Curl_Virus': 16}\n"
     ]
    }
   ],
   "source": [
    "dataset = Dataset()"
   ]
  },
  {
   "cell_type": "code",
   "execution_count": 7,
   "metadata": {
    "id": "vEESPZpR9u_Y"
   },
   "outputs": [
    {
     "name": "stdout",
     "output_type": "stream",
     "text": [
      "0 Cherry___healthy\n",
      "1 Cherry___Powdery_mildew\n",
      "2 Pepper___Bacterial_spot\n",
      "3 Pepper___healthy\n",
      "4 Potato___Early_blight\n",
      "5 Potato___healthy\n",
      "6 Potato___Late_blight\n",
      "7 Tomato___Bacterial_spot\n",
      "8 Tomato___Early_blight\n",
      "9 Tomato___healthy\n",
      "10 Tomato___Late_blight\n",
      "11 Tomato___Leaf_Mold\n",
      "12 Tomato___Septoria_leaf_spot\n",
      "13 Tomato___Spider_mites Two-spotted_spider_mite\n",
      "14 Tomato___Target_Spot\n",
      "15 Tomato___Tomato_mosaic_virus\n",
      "16 Tomato___Tomato_Yellow_Leaf_Curl_Virus\n"
     ]
    }
   ],
   "source": [
    "valdataset = ValDataset()"
   ]
  },
  {
   "cell_type": "markdown",
   "metadata": {},
   "source": [
    "# Function to return correct predictions in a batch"
   ]
  },
  {
   "cell_type": "code",
   "execution_count": 8,
   "metadata": {
    "id": "6SdDIDphMlqK"
   },
   "outputs": [],
   "source": [
    "def get_num_correct(preds,labels):\n",
    "    return preds.argmax(dim=1).eq(labels).sum().item()"
   ]
  },
  {
   "cell_type": "code",
   "execution_count": 9,
   "metadata": {
    "id": "uqOK7S92LAoi"
   },
   "outputs": [],
   "source": [
    "def train(dataset,valdataset, model):\n",
    "    model.train()\n",
    "\n",
    "    # dataloader in pytorch to load validation and train dataset\n",
    "    dataloader = torch.utils.data.DataLoader(dataset, batch_size=64,shuffle=True)\n",
    "    valdataloader = torch.utils.data.DataLoader(valdataset, batch_size=32,shuffle=True)\n",
    "\n",
    "    # Defining the loss and optimizer\n",
    "    criterion = nn.CrossEntropyLoss()\n",
    "    optimizer = optim.Adam(model.parameters(), lr=0.001)\n",
    "    num_of_epochs = 20\n",
    "    epochs = []\n",
    "    losses = []\n",
    "    for epoch in range(num_of_epochs):\n",
    "        cnt = 0\n",
    "        tot_loss = 0\n",
    "        tot_correct = 0\n",
    "        for batch, (x, y) in enumerate(dataloader):\n",
    "            # Sets the gradients of all optimized tensors to zero\n",
    "            optimizer.zero_grad()\n",
    "            y_pred = model(x)\n",
    "            # Compute loss (here CrossEntropyLoss)\n",
    "            loss = F.cross_entropy(y_pred,y)\n",
    "\n",
    "            loss.backward()\n",
    "            optimizer.step()\n",
    "\n",
    "        for batch, (x, y) in enumerate(valdataloader):\n",
    "            # Sets the gradients of all optimized tensors to zero\n",
    "            optimizer.zero_grad()\n",
    "            with torch.no_grad():\n",
    "                y_pred = model(x)\n",
    "                # Compute loss (here CrossEntropyLoss)\n",
    "                loss = F.cross_entropy(y_pred,y)\n",
    "\n",
    "            tot_loss+=loss.item()\n",
    "            tot_correct +=get_num_correct(y_pred,y)\n",
    "        epochs.append(epoch)\n",
    "        losses.append(tot_loss)\n",
    "        print(\"Epoch\",epoch,\"total_correct\",tot_correct,\"loss:\",tot_loss)\n",
    "        torch.save(model.state_dict(), \"model002_ep\"+str(epoch+1)+\".pth\")\n",
    "\n",
    "    # Plot a Validation Loss vs Epochs graph \n",
    "    plt.plot(epochs, losses, color='green', linewidth = 3, \n",
    "         marker='o', markerfacecolor='blue', markersize=8) \n",
    "    plt.xlabel('epochs ---->',color='m',fontsize='xx-large' ) \n",
    "    plt.ylabel('loss ------>',color='m',fontsize='xx-large') \n",
    "    axes = plt.gca()        # 'gca' - get current axes\n",
    "    axes.set_facecolor('c') #'c' - cyan\n",
    "    axes.tick_params(axis='y', which='both', colors='tomato')\n",
    "    axes.tick_params(axis='x', which='both', colors='#20ff14')\n",
    "    plt.title(\"Val Loss vs Epoch\",color='m',fontsize='xx-large')"
   ]
  },
  {
   "cell_type": "code",
   "execution_count": 10,
   "metadata": {
    "colab": {
     "base_uri": "https://localhost:8080/",
     "height": 659
    },
    "id": "h282bBs_OFrC",
    "outputId": "19f0ef6a-92d3-4ffb-8105-8730c096bf89"
   },
   "outputs": [
    {
     "name": "stdout",
     "output_type": "stream",
     "text": [
      "Epoch 0 total_correct 12 loss: 16.980791568756104\n",
      "Epoch 1 total_correct 12 loss: 16.924724578857422\n",
      "Epoch 2 total_correct 21 loss: 16.143314838409424\n",
      "Epoch 3 total_correct 22 loss: 15.552356004714966\n",
      "Epoch 4 total_correct 31 loss: 15.138529062271118\n",
      "Epoch 5 total_correct 43 loss: 14.0367271900177\n",
      "Epoch 6 total_correct 43 loss: 13.834285259246826\n",
      "Epoch 7 total_correct 36 loss: 15.054065108299255\n",
      "Epoch 8 total_correct 46 loss: 12.859854340553284\n",
      "Epoch 9 total_correct 56 loss: 12.783460259437561\n",
      "Epoch 10 total_correct 61 loss: 12.498743176460266\n",
      "Epoch 11 total_correct 58 loss: 12.36693561077118\n",
      "Epoch 12 total_correct 59 loss: 13.149754047393799\n",
      "Epoch 13 total_correct 66 loss: 12.522734761238098\n",
      "Epoch 14 total_correct 61 loss: 12.433385848999023\n",
      "Epoch 15 total_correct 60 loss: 12.876755952835083\n",
      "Epoch 16 total_correct 63 loss: 12.084818005561829\n",
      "Epoch 17 total_correct 56 loss: 13.440849900245667\n",
      "Epoch 18 total_correct 76 loss: 11.908377051353455\n",
      "Epoch 19 total_correct 67 loss: 11.758881092071533\n"
     ]
    },
    {
     "data": {
      "image/png": "[encoded data removed]",
      "text/plain": [
       "<Figure size 432x288 with 1 Axes>"
      ]
     },
     "metadata": {
      "needs_background": "dark"
     },
     "output_type": "display_data"
    }
   ],
   "source": [
    "train(dataset,valdataset, model)"
   ]
  },
  {
   "cell_type": "markdown",
   "metadata": {},
   "source": [
    "# Saving labels to label value as a json"
   ]
  },
  {
   "cell_type": "code",
   "execution_count": 11,
   "metadata": {
    "id": "NXX0aOg-WzE1"
   },
   "outputs": [],
   "source": [
    "main_dir = os.listdir(os.path.join(r\"C:\\Users\\chahakgarg\\OneDrive\\Desktop\\dataset\\minidataset\",\"train\"))\n",
    "reference = {}\n",
    "for i,dir in enumerate(main_dir):\n",
    "    reference[dir]=i\n",
    "with open('labels.json', 'wb') as iw:\n",
    "    pickle.dump(reference, iw)"
   ]
  },
  {
   "cell_type": "markdown",
   "metadata": {},
   "source": [
    "# Saving trained model"
   ]
  },
  {
   "cell_type": "code",
   "execution_count": 12,
   "metadata": {
    "id": "eleHbjJxXgrf"
   },
   "outputs": [],
   "source": [
    "torch.save(model.state_dict(), \"model.pth\")"
   ]
  },
  {
   "cell_type": "code",
   "execution_count": 13,
   "metadata": {
    "id": "g5MXP5iAYFiP"
   },
   "outputs": [],
   "source": [
    "# prediction function to test\n",
    "def predict(img_path):\n",
    "    image = Image.open(img_path)\n",
    "    image = ToTensor()(image)\n",
    "    resize = transforms.Compose([transforms.Resize((256,256))])\n",
    "    y_result = model(resize(image).unsqueeze(0))\n",
    "    result_idx = y_result.argmax(dim=1)\n",
    "    for key,value in reference.items():\n",
    "        if(value==result_idx):\n",
    "            print(key)\n",
    "            break\n",
    "      \n",
    "\n"
   ]
  },
  {
   "cell_type": "code",
   "execution_count": 14,
   "metadata": {
    "colab": {
     "base_uri": "https://localhost:8080/"
    },
    "id": "xRv63JfPatKB",
    "outputId": "86e06b3f-dd45-49a2-cefd-95390f487af4"
   },
   "outputs": [
    {
     "name": "stdout",
     "output_type": "stream",
     "text": [
      "Potato___Early_blight\n"
     ]
    }
   ],
   "source": [
    "predict(r\"C:\\Users\\chahakgarg\\OneDrive\\Desktop\\dataset\\test\\PotatoEarlyBlight2.jpg\")"
   ]
  }
 ],
 "metadata": {
  "colab": {
   "collapsed_sections": [],
   "name": "Plant_Disease_Identifier.ipynb",
   "provenance": []
  },
  "kernelspec": {
   "display_name": "Python 3 (ipykernel)",
   "language": "python",
   "name": "python3"
  },
  "language_info": {
   "codemirror_mode": {
    "name": "ipython",
    "version": 3
   },
   "file_extension": ".py",
   "mimetype": "text/x-python",
   "name": "python",
   "nbconvert_exporter": "python",
   "pygments_lexer": "ipython3",
   "version": "3.9.5"
  }
 },
 "nbformat": 4,
 "nbformat_minor": 1
}
